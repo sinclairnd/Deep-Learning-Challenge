{
 "cells": [
  {
   "cell_type": "markdown",
   "metadata": {},
   "source": [
    "## Preprocessing"
   ]
  },
  {
   "cell_type": "code",
   "execution_count": 1,
   "metadata": {},
   "outputs": [
    {
     "data": {
      "text/html": [
       "<div>\n",
       "<style scoped>\n",
       "    .dataframe tbody tr th:only-of-type {\n",
       "        vertical-align: middle;\n",
       "    }\n",
       "\n",
       "    .dataframe tbody tr th {\n",
       "        vertical-align: top;\n",
       "    }\n",
       "\n",
       "    .dataframe thead th {\n",
       "        text-align: right;\n",
       "    }\n",
       "</style>\n",
       "<table border=\"1\" class=\"dataframe\">\n",
       "  <thead>\n",
       "    <tr style=\"text-align: right;\">\n",
       "      <th></th>\n",
       "      <th>EIN</th>\n",
       "      <th>NAME</th>\n",
       "      <th>APPLICATION_TYPE</th>\n",
       "      <th>AFFILIATION</th>\n",
       "      <th>CLASSIFICATION</th>\n",
       "      <th>USE_CASE</th>\n",
       "      <th>ORGANIZATION</th>\n",
       "      <th>STATUS</th>\n",
       "      <th>INCOME_AMT</th>\n",
       "      <th>SPECIAL_CONSIDERATIONS</th>\n",
       "      <th>ASK_AMT</th>\n",
       "      <th>IS_SUCCESSFUL</th>\n",
       "    </tr>\n",
       "  </thead>\n",
       "  <tbody>\n",
       "    <tr>\n",
       "      <th>0</th>\n",
       "      <td>10520599</td>\n",
       "      <td>BLUE KNIGHTS MOTORCYCLE CLUB</td>\n",
       "      <td>T10</td>\n",
       "      <td>Independent</td>\n",
       "      <td>C1000</td>\n",
       "      <td>ProductDev</td>\n",
       "      <td>Association</td>\n",
       "      <td>1</td>\n",
       "      <td>0</td>\n",
       "      <td>N</td>\n",
       "      <td>5000</td>\n",
       "      <td>1</td>\n",
       "    </tr>\n",
       "    <tr>\n",
       "      <th>1</th>\n",
       "      <td>10531628</td>\n",
       "      <td>AMERICAN CHESAPEAKE CLUB CHARITABLE TR</td>\n",
       "      <td>T3</td>\n",
       "      <td>Independent</td>\n",
       "      <td>C2000</td>\n",
       "      <td>Preservation</td>\n",
       "      <td>Co-operative</td>\n",
       "      <td>1</td>\n",
       "      <td>1-9999</td>\n",
       "      <td>N</td>\n",
       "      <td>108590</td>\n",
       "      <td>1</td>\n",
       "    </tr>\n",
       "    <tr>\n",
       "      <th>2</th>\n",
       "      <td>10547893</td>\n",
       "      <td>ST CLOUD PROFESSIONAL FIREFIGHTERS</td>\n",
       "      <td>T5</td>\n",
       "      <td>CompanySponsored</td>\n",
       "      <td>C3000</td>\n",
       "      <td>ProductDev</td>\n",
       "      <td>Association</td>\n",
       "      <td>1</td>\n",
       "      <td>0</td>\n",
       "      <td>N</td>\n",
       "      <td>5000</td>\n",
       "      <td>0</td>\n",
       "    </tr>\n",
       "    <tr>\n",
       "      <th>3</th>\n",
       "      <td>10553066</td>\n",
       "      <td>SOUTHSIDE ATHLETIC ASSOCIATION</td>\n",
       "      <td>T3</td>\n",
       "      <td>CompanySponsored</td>\n",
       "      <td>C2000</td>\n",
       "      <td>Preservation</td>\n",
       "      <td>Trust</td>\n",
       "      <td>1</td>\n",
       "      <td>10000-24999</td>\n",
       "      <td>N</td>\n",
       "      <td>6692</td>\n",
       "      <td>1</td>\n",
       "    </tr>\n",
       "    <tr>\n",
       "      <th>4</th>\n",
       "      <td>10556103</td>\n",
       "      <td>GENETIC RESEARCH INSTITUTE OF THE DESERT</td>\n",
       "      <td>T3</td>\n",
       "      <td>Independent</td>\n",
       "      <td>C1000</td>\n",
       "      <td>Heathcare</td>\n",
       "      <td>Trust</td>\n",
       "      <td>1</td>\n",
       "      <td>100000-499999</td>\n",
       "      <td>N</td>\n",
       "      <td>142590</td>\n",
       "      <td>1</td>\n",
       "    </tr>\n",
       "  </tbody>\n",
       "</table>\n",
       "</div>"
      ],
      "text/plain": [
       "        EIN                                      NAME APPLICATION_TYPE  \\\n",
       "0  10520599              BLUE KNIGHTS MOTORCYCLE CLUB              T10   \n",
       "1  10531628    AMERICAN CHESAPEAKE CLUB CHARITABLE TR               T3   \n",
       "2  10547893        ST CLOUD PROFESSIONAL FIREFIGHTERS               T5   \n",
       "3  10553066            SOUTHSIDE ATHLETIC ASSOCIATION               T3   \n",
       "4  10556103  GENETIC RESEARCH INSTITUTE OF THE DESERT               T3   \n",
       "\n",
       "        AFFILIATION CLASSIFICATION      USE_CASE  ORGANIZATION  STATUS  \\\n",
       "0       Independent          C1000    ProductDev   Association       1   \n",
       "1       Independent          C2000  Preservation  Co-operative       1   \n",
       "2  CompanySponsored          C3000    ProductDev   Association       1   \n",
       "3  CompanySponsored          C2000  Preservation         Trust       1   \n",
       "4       Independent          C1000     Heathcare         Trust       1   \n",
       "\n",
       "      INCOME_AMT SPECIAL_CONSIDERATIONS  ASK_AMT  IS_SUCCESSFUL  \n",
       "0              0                      N     5000              1  \n",
       "1         1-9999                      N   108590              1  \n",
       "2              0                      N     5000              0  \n",
       "3    10000-24999                      N     6692              1  \n",
       "4  100000-499999                      N   142590              1  "
      ]
     },
     "execution_count": 1,
     "metadata": {},
     "output_type": "execute_result"
    }
   ],
   "source": [
    "# Import our dependencies\n",
    "from sklearn.model_selection import train_test_split\n",
    "from sklearn.preprocessing import StandardScaler\n",
    "import tensorflow as tf\n",
    "from tensorflow import keras\n",
    "from tensorflow.keras import layers\n",
    "\n",
    "# Import and read the charity_data.csv\n",
    "import pandas as pd \n",
    "application_df = pd.read_csv(\"charity_data.csv\")\n",
    "application_df.head()"
   ]
  },
  {
   "cell_type": "code",
   "execution_count": 2,
   "metadata": {},
   "outputs": [
    {
     "data": {
      "text/plain": [
       "EIN                       0\n",
       "NAME                      0\n",
       "APPLICATION_TYPE          0\n",
       "AFFILIATION               0\n",
       "CLASSIFICATION            0\n",
       "USE_CASE                  0\n",
       "ORGANIZATION              0\n",
       "STATUS                    0\n",
       "INCOME_AMT                0\n",
       "SPECIAL_CONSIDERATIONS    0\n",
       "ASK_AMT                   0\n",
       "IS_SUCCESSFUL             0\n",
       "dtype: int64"
      ]
     },
     "execution_count": 2,
     "metadata": {},
     "output_type": "execute_result"
    }
   ],
   "source": [
    "application_df.isna().sum()"
   ]
  },
  {
   "cell_type": "code",
   "execution_count": 3,
   "metadata": {},
   "outputs": [],
   "source": [
    "# Drop the non-beneficial ID columns, 'EIN' and 'NAME'.\n",
    "application_df.drop([\"EIN\", \"NAME\"], axis = 1, inplace = True)"
   ]
  },
  {
   "cell_type": "code",
   "execution_count": 4,
   "metadata": {},
   "outputs": [
    {
     "data": {
      "text/plain": [
       "APPLICATION_TYPE            17\n",
       "AFFILIATION                  6\n",
       "CLASSIFICATION              71\n",
       "USE_CASE                     5\n",
       "ORGANIZATION                 4\n",
       "STATUS                       2\n",
       "INCOME_AMT                   9\n",
       "SPECIAL_CONSIDERATIONS       2\n",
       "ASK_AMT                   8747\n",
       "IS_SUCCESSFUL                2\n",
       "dtype: int64"
      ]
     },
     "execution_count": 4,
     "metadata": {},
     "output_type": "execute_result"
    }
   ],
   "source": [
    "# Determine the number of unique values in each column.\n",
    "\n",
    "unique_count_list = [len(application_df[column].unique()) for column in application_df.columns]\n",
    "pd.Series(unique_count_list, application_df.columns)"
   ]
  },
  {
   "cell_type": "code",
   "execution_count": 5,
   "metadata": {},
   "outputs": [
    {
     "data": {
      "text/plain": [
       "T3     27037\n",
       "T4      1542\n",
       "T6      1216\n",
       "T5      1173\n",
       "T19     1065\n",
       "T8       737\n",
       "T7       725\n",
       "T10      528\n",
       "T9       156\n",
       "T13       66\n",
       "T12       27\n",
       "T2        16\n",
       "T14        3\n",
       "T25        3\n",
       "T15        2\n",
       "T29        2\n",
       "T17        1\n",
       "Name: APPLICATION_TYPE, dtype: int64"
      ]
     },
     "execution_count": 5,
     "metadata": {},
     "output_type": "execute_result"
    }
   ],
   "source": [
    "# Look at APPLICATION_TYPE value counts for binning\n",
    "application_df[\"APPLICATION_TYPE\"].value_counts()"
   ]
  },
  {
   "cell_type": "code",
   "execution_count": 6,
   "metadata": {},
   "outputs": [
    {
     "data": {
      "text/plain": [
       "T3       27037\n",
       "T4        1542\n",
       "T6        1216\n",
       "T5        1173\n",
       "T19       1065\n",
       "T8         737\n",
       "T7         725\n",
       "T10        528\n",
       "Other      276\n",
       "Name: APPLICATION_TYPE, dtype: int64"
      ]
     },
     "execution_count": 6,
     "metadata": {},
     "output_type": "execute_result"
    }
   ],
   "source": [
    "# Choose a cutoff value and create a list of application types to be replaced\n",
    "# Use the variable name `application_types_to_replace`\n",
    "application_types_to_replace = application_df[\"APPLICATION_TYPE\"].value_counts()[application_df[\"APPLICATION_TYPE\"].value_counts() < 528].index\n",
    "\n",
    "# Replace in dataframe\n",
    "for app in application_types_to_replace:\n",
    "    application_df['APPLICATION_TYPE'] = application_df['APPLICATION_TYPE'].replace(app,\"Other\")\n",
    "\n",
    "# Check to make sure binning was successful\n",
    "application_df['APPLICATION_TYPE'].value_counts()"
   ]
  },
  {
   "cell_type": "code",
   "execution_count": 7,
   "metadata": {},
   "outputs": [
    {
     "data": {
      "text/plain": [
       "C1000    17326\n",
       "C2000     6074\n",
       "C1200     4837\n",
       "C3000     1918\n",
       "C2100     1883\n",
       "         ...  \n",
       "C2600        1\n",
       "C1570        1\n",
       "C2500        1\n",
       "C1236        1\n",
       "C1732        1\n",
       "Name: CLASSIFICATION, Length: 71, dtype: int64"
      ]
     },
     "execution_count": 7,
     "metadata": {},
     "output_type": "execute_result"
    }
   ],
   "source": [
    "# Look at CLASSIFICATION value counts for binning\n",
    "application_df['CLASSIFICATION'].value_counts()"
   ]
  },
  {
   "cell_type": "code",
   "execution_count": 8,
   "metadata": {},
   "outputs": [
    {
     "data": {
      "text/plain": [
       "C1000    17326\n",
       "C2000     6074\n",
       "C1200     4837\n",
       "C3000     1918\n",
       "C2100     1883\n",
       "C7000      777\n",
       "C1700      287\n",
       "C4000      194\n",
       "C5000      116\n",
       "C1270      114\n",
       "C2700      104\n",
       "C2800       95\n",
       "C7100       75\n",
       "C1300       58\n",
       "C1280       50\n",
       "C1230       36\n",
       "C1400       34\n",
       "C7200       32\n",
       "C2300       32\n",
       "C1240       30\n",
       "C8000       20\n",
       "C7120       18\n",
       "C1500       16\n",
       "C1800       15\n",
       "C6000       15\n",
       "C1250       14\n",
       "C8200       11\n",
       "C1238       10\n",
       "C1278       10\n",
       "C1235        9\n",
       "C1237        9\n",
       "C7210        7\n",
       "C4100        6\n",
       "C2400        6\n",
       "C1720        6\n",
       "C1600        5\n",
       "C1257        5\n",
       "C1260        3\n",
       "C2710        3\n",
       "C0           3\n",
       "C1246        2\n",
       "C1256        2\n",
       "C1267        2\n",
       "C3200        2\n",
       "C1234        2\n",
       "Name: CLASSIFICATION, dtype: int64"
      ]
     },
     "execution_count": 8,
     "metadata": {},
     "output_type": "execute_result"
    }
   ],
   "source": [
    "# You may find it helpful to look at CLASSIFICATION value counts >1\n",
    "application_df[\"CLASSIFICATION\"].value_counts()[application_df[\"CLASSIFICATION\"].value_counts() > 1]"
   ]
  },
  {
   "cell_type": "code",
   "execution_count": 9,
   "metadata": {},
   "outputs": [
    {
     "data": {
      "text/plain": [
       "C1000    17326\n",
       "C2000     6074\n",
       "C1200     4837\n",
       "Other     2261\n",
       "C3000     1918\n",
       "C2100     1883\n",
       "Name: CLASSIFICATION, dtype: int64"
      ]
     },
     "execution_count": 9,
     "metadata": {},
     "output_type": "execute_result"
    }
   ],
   "source": [
    "# Choose a cutoff value and create a list of classifications to be replaced\n",
    "# Use the variable name `classifications_to_replace`\n",
    "classifications_to_replace = application_df[\"CLASSIFICATION\"].value_counts()[application_df[\"CLASSIFICATION\"].value_counts() < 1883].index\n",
    "\n",
    "# Replace in dataframe\n",
    "for cls in classifications_to_replace:\n",
    "    application_df['CLASSIFICATION'] = application_df['CLASSIFICATION'].replace(cls,\"Other\")\n",
    "    \n",
    "# Check to make sure binning was successful\n",
    "application_df['CLASSIFICATION'].value_counts()"
   ]
  },
  {
   "cell_type": "code",
   "execution_count": 10,
   "metadata": {},
   "outputs": [],
   "source": [
    "# Convert categorical data to numeric with `pd.get_dummies`\n",
    "application_df_dummies = pd.get_dummies(application_df, drop_first = True)"
   ]
  },
  {
   "cell_type": "code",
   "execution_count": 11,
   "metadata": {},
   "outputs": [],
   "source": [
    "# Split our preprocessed data into our features and target arrays\n",
    "target = application_df_dummies[\"IS_SUCCESSFUL\"]\n",
    "features = application_df_dummies.drop(\"IS_SUCCESSFUL\", axis = 1)\n",
    "\n",
    "# Split the preprocessed data into a training and testing dataset\n",
    "X_train, X_test, y_train, y_test = train_test_split(features, target, random_state = 0)"
   ]
  },
  {
   "cell_type": "code",
   "execution_count": 12,
   "metadata": {},
   "outputs": [],
   "source": [
    "# Create a StandardScaler instances\n",
    "scaler = StandardScaler()\n",
    "\n",
    "# Fit the StandardScaler\n",
    "X_scaler = scaler.fit(X_train)\n",
    "\n",
    "# Scale the data\n",
    "X_train_scaled = X_scaler.transform(X_train)\n",
    "X_test_scaled = X_scaler.transform(X_test)"
   ]
  },
  {
   "cell_type": "code",
   "execution_count": 13,
   "metadata": {},
   "outputs": [
    {
     "name": "stdout",
     "output_type": "stream",
     "text": [
      "(25724, 36)\n",
      "(8575, 36)\n"
     ]
    }
   ],
   "source": [
    "print(X_train_scaled.shape)\n",
    "print(X_test_scaled.shape)"
   ]
  },
  {
   "cell_type": "markdown",
   "metadata": {},
   "source": [
    "## Optimize the Model"
   ]
  },
  {
   "cell_type": "markdown",
   "metadata": {},
   "source": [
    "##### First Attempt at Opitimization - add second hidden layer and changed optimizer"
   ]
  },
  {
   "cell_type": "code",
   "execution_count": 19,
   "metadata": {},
   "outputs": [],
   "source": [
    "# Keras Optimizers\n",
    "\n",
    "sgd = keras.optimizers.SGD(learning_rate = 0.01)"
   ]
  },
  {
   "cell_type": "code",
   "execution_count": 20,
   "metadata": {},
   "outputs": [
    {
     "name": "stdout",
     "output_type": "stream",
     "text": [
      "Model: \"sequential_1\"\n",
      "_________________________________________________________________\n",
      " Layer (type)                Output Shape              Param #   \n",
      "=================================================================\n",
      " dense_2 (Dense)             (None, 64)                2368      \n",
      "                                                                 \n",
      " dense_3 (Dense)             (None, 64)                4160      \n",
      "                                                                 \n",
      " dense_4 (Dense)             (None, 2)                 130       \n",
      "                                                                 \n",
      "=================================================================\n",
      "Total params: 6,658\n",
      "Trainable params: 6,658\n",
      "Non-trainable params: 0\n",
      "_________________________________________________________________\n"
     ]
    }
   ],
   "source": [
    "# Define the model - deep neural net, i.e., the number of input features and hidden nodes for each layer.\n",
    "nn = keras.Sequential()\n",
    "nn.add(keras.Input(shape = (X_train_scaled.shape[1],)))\n",
    "\n",
    "# First hidden layer\n",
    "nn.add(layers.Dense(64, activation = \"relu\"))\n",
    "\n",
    "# Second hidden layer\n",
    "nn.add(layers.Dense(64, activation = \"relu\"))\n",
    "\n",
    "# Output layer\n",
    "nn.add(layers.Dense(2))\n",
    "\n",
    "# Check the structure of the model\n",
    "nn.summary()"
   ]
  },
  {
   "cell_type": "code",
   "execution_count": 21,
   "metadata": {},
   "outputs": [],
   "source": [
    "# Compile the model\n",
    "nn.compile(loss = \"binary_crossentropy\", metrics = [\"accuracy\"], optimizer = sgd)"
   ]
  },
  {
   "cell_type": "code",
   "execution_count": 22,
   "metadata": {},
   "outputs": [
    {
     "name": "stdout",
     "output_type": "stream",
     "text": [
      "Epoch 1/20\n",
      "804/804 [==============================] - 2s 2ms/step - loss: 7.0958 - accuracy: 0.5347: 0s - loss: 7.1076 - accu\n",
      "Epoch 2/20\n",
      "804/804 [==============================] - 2s 2ms/step - loss: 7.0958 - accuracy: 0.5347\n",
      "Epoch 3/20\n",
      "804/804 [==============================] - 2s 2ms/step - loss: 7.0958 - accuracy: 0.5347\n",
      "Epoch 4/20\n",
      "804/804 [==============================] - 2s 2ms/step - loss: 7.0958 - accuracy: 0.5347\n",
      "Epoch 5/20\n",
      "804/804 [==============================] - 2s 2ms/step - loss: 7.0958 - accuracy: 0.5347\n",
      "Epoch 6/20\n",
      "804/804 [==============================] - 2s 2ms/step - loss: 7.0958 - accuracy: 0.5347\n",
      "Epoch 7/20\n",
      "804/804 [==============================] - 2s 2ms/step - loss: 7.0958 - accuracy: 0.5347\n",
      "Epoch 8/20\n",
      "804/804 [==============================] - 2s 2ms/step - loss: 7.0958 - accuracy: 0.5347\n",
      "Epoch 9/20\n",
      "804/804 [==============================] - 2s 2ms/step - loss: 7.0958 - accuracy: 0.5347\n",
      "Epoch 10/20\n",
      "804/804 [==============================] - 2s 2ms/step - loss: 7.0958 - accuracy: 0.5347\n",
      "Epoch 11/20\n",
      "804/804 [==============================] - 2s 2ms/step - loss: 7.0958 - accuracy: 0.5347: 0s - loss: 7.1034 - ac\n",
      "Epoch 12/20\n",
      "804/804 [==============================] - 2s 2ms/step - loss: 7.0958 - accuracy: 0.5347\n",
      "Epoch 13/20\n",
      "804/804 [==============================] - 2s 2ms/step - loss: 7.0958 - accuracy: 0.5347\n",
      "Epoch 14/20\n",
      "804/804 [==============================] - 2s 2ms/step - loss: 7.0958 - accuracy: 0.5347\n",
      "Epoch 15/20\n",
      "804/804 [==============================] - 2s 2ms/step - loss: 7.0958 - accuracy: 0.5347\n",
      "Epoch 16/20\n",
      "804/804 [==============================] - 2s 2ms/step - loss: 7.0958 - accuracy: 0.5347\n",
      "Epoch 17/20\n",
      "804/804 [==============================] - 2s 2ms/step - loss: 7.0958 - accuracy: 0.5347\n",
      "Epoch 18/20\n",
      "804/804 [==============================] - 2s 2ms/step - loss: 7.0958 - accuracy: 0.5347\n",
      "Epoch 19/20\n",
      "804/804 [==============================] - 2s 2ms/step - loss: 7.0958 - accuracy: 0.5347\n",
      "Epoch 20/20\n",
      "804/804 [==============================] - 2s 2ms/step - loss: 7.0958 - accuracy: 0.5347\n"
     ]
    },
    {
     "data": {
      "text/plain": [
       "<keras.callbacks.History at 0x28a07f76b20>"
      ]
     },
     "execution_count": 22,
     "metadata": {},
     "output_type": "execute_result"
    }
   ],
   "source": [
    "# Train the model\n",
    "mc = keras.callbacks.ModelCheckpoint('weights{epoch:08d}.h5', \n",
    "                                     save_weights_only=True, save_freq=5)\n",
    "nn.fit(x = X_train, y = y_train, epochs = 20, callbacks = [mc])\n",
    "       # validation_data = (X_test, y_test))"
   ]
  },
  {
   "cell_type": "code",
   "execution_count": 23,
   "metadata": {},
   "outputs": [
    {
     "name": "stdout",
     "output_type": "stream",
     "text": [
      "268/268 - 0s - loss: 4.1038 - accuracy: 0.5607 - 318ms/epoch - 1ms/step\n",
      "Loss: 4.103777885437012, Accuracy: 0.5606997013092041\n"
     ]
    }
   ],
   "source": [
    "# Evaluate the model using the test data\n",
    "model_loss, model_accuracy = nn.evaluate(X_test_scaled,y_test,verbose=2)\n",
    "print(f\"Loss: {model_loss}, Accuracy: {model_accuracy}\")"
   ]
  },
  {
   "cell_type": "markdown",
   "metadata": {},
   "source": [
    "##### Second Attempt at Opitimization - add neurons to hidden layers and changing activation function"
   ]
  },
  {
   "cell_type": "code",
   "execution_count": 24,
   "metadata": {},
   "outputs": [],
   "source": [
    "# Keras Optimizers\n",
    "\n",
    "sgd = keras.optimizers.SGD(learning_rate = 0.01)"
   ]
  },
  {
   "cell_type": "code",
   "execution_count": 25,
   "metadata": {},
   "outputs": [
    {
     "name": "stdout",
     "output_type": "stream",
     "text": [
      "Model: \"sequential_2\"\n",
      "_________________________________________________________________\n",
      " Layer (type)                Output Shape              Param #   \n",
      "=================================================================\n",
      " dense_5 (Dense)             (None, 128)               4736      \n",
      "                                                                 \n",
      " dense_6 (Dense)             (None, 128)               16512     \n",
      "                                                                 \n",
      " dense_7 (Dense)             (None, 2)                 258       \n",
      "                                                                 \n",
      "=================================================================\n",
      "Total params: 21,506\n",
      "Trainable params: 21,506\n",
      "Non-trainable params: 0\n",
      "_________________________________________________________________\n"
     ]
    }
   ],
   "source": [
    "# Define the model - deep neural net, i.e., the number of input features and hidden nodes for each layer.\n",
    "nn = keras.Sequential()\n",
    "nn.add(keras.Input(shape = (X_train_scaled.shape[1],)))\n",
    "\n",
    "# First hidden layer\n",
    "nn.add(layers.Dense(128, activation = \"tanh\"))\n",
    "\n",
    "# Second hidden layer\n",
    "nn.add(layers.Dense(128, activation = \"tanh\"))\n",
    "\n",
    "# Output layer\n",
    "nn.add(layers.Dense(2))\n",
    "\n",
    "# Check the structure of the model\n",
    "nn.summary()"
   ]
  },
  {
   "cell_type": "code",
   "execution_count": 26,
   "metadata": {},
   "outputs": [],
   "source": [
    "# Compile the model\n",
    "nn.compile(loss = \"binary_crossentropy\", metrics = [\"accuracy\"], optimizer = sgd)"
   ]
  },
  {
   "cell_type": "code",
   "execution_count": 27,
   "metadata": {},
   "outputs": [
    {
     "name": "stdout",
     "output_type": "stream",
     "text": [
      "Epoch 1/20\n",
      "804/804 [==============================] - 2s 2ms/step - loss: 8.2474 - accuracy: 0.5347\n",
      "Epoch 2/20\n",
      "804/804 [==============================] - 2s 2ms/step - loss: 8.2474 - accuracy: 0.5347\n",
      "Epoch 3/20\n",
      "804/804 [==============================] - 2s 3ms/step - loss: 8.2474 - accuracy: 0.5347\n",
      "Epoch 4/20\n",
      "804/804 [==============================] - 2s 3ms/step - loss: 8.2474 - accuracy: 0.5347\n",
      "Epoch 5/20\n",
      "804/804 [==============================] - 2s 2ms/step - loss: 8.2474 - accuracy: 0.5347\n",
      "Epoch 6/20\n",
      "804/804 [==============================] - 2s 3ms/step - loss: 8.2474 - accuracy: 0.5347\n",
      "Epoch 7/20\n",
      "804/804 [==============================] - 2s 3ms/step - loss: 8.2474 - accuracy: 0.5347\n",
      "Epoch 8/20\n",
      "804/804 [==============================] - 2s 3ms/step - loss: 8.2474 - accuracy: 0.5347\n",
      "Epoch 9/20\n",
      "804/804 [==============================] - 2s 3ms/step - loss: 8.2474 - accuracy: 0.5347\n",
      "Epoch 10/20\n",
      "804/804 [==============================] - 2s 3ms/step - loss: 8.2474 - accuracy: 0.5347\n",
      "Epoch 11/20\n",
      "804/804 [==============================] - 2s 2ms/step - loss: 8.2473 - accuracy: 0.5347\n",
      "Epoch 12/20\n",
      "804/804 [==============================] - 2s 3ms/step - loss: 8.2474 - accuracy: 0.5347\n",
      "Epoch 13/20\n",
      "804/804 [==============================] - 2s 2ms/step - loss: 8.2473 - accuracy: 0.5347\n",
      "Epoch 14/20\n",
      "804/804 [==============================] - 2s 3ms/step - loss: 8.2474 - accuracy: 0.5347\n",
      "Epoch 15/20\n",
      "804/804 [==============================] - 2s 2ms/step - loss: 8.2474 - accuracy: 0.5347\n",
      "Epoch 16/20\n",
      "804/804 [==============================] - 2s 2ms/step - loss: 8.2474 - accuracy: 0.5347\n",
      "Epoch 17/20\n",
      "804/804 [==============================] - 2s 3ms/step - loss: 8.2474 - accuracy: 0.5347\n",
      "Epoch 18/20\n",
      "804/804 [==============================] - 2s 2ms/step - loss: 8.2474 - accuracy: 0.5347\n",
      "Epoch 19/20\n",
      "804/804 [==============================] - 2s 2ms/step - loss: 8.2474 - accuracy: 0.5347\n",
      "Epoch 20/20\n",
      "804/804 [==============================] - 2s 2ms/step - loss: 8.2474 - accuracy: 0.5347\n"
     ]
    },
    {
     "data": {
      "text/plain": [
       "<keras.callbacks.History at 0x28a0742f910>"
      ]
     },
     "execution_count": 27,
     "metadata": {},
     "output_type": "execute_result"
    }
   ],
   "source": [
    "# Train the model\n",
    "mc = keras.callbacks.ModelCheckpoint('weights{epoch:08d}.h5', \n",
    "                                     save_weights_only=True, save_freq=5)\n",
    "nn.fit(x = X_train, y = y_train, epochs = 20, callbacks = [mc])\n",
    "       # validation_data = (X_test, y_test))"
   ]
  },
  {
   "cell_type": "code",
   "execution_count": 28,
   "metadata": {},
   "outputs": [
    {
     "name": "stdout",
     "output_type": "stream",
     "text": [
      "268/268 - 0s - loss: 4.3190 - accuracy: 0.4687 - 245ms/epoch - 913us/step\n",
      "Loss: 4.319024085998535, Accuracy: 0.468688040971756\n"
     ]
    }
   ],
   "source": [
    "# Evaluate the model using the test data\n",
    "model_loss, model_accuracy = nn.evaluate(X_test_scaled,y_test,verbose=2)\n",
    "print(f\"Loss: {model_loss}, Accuracy: {model_accuracy}\")"
   ]
  },
  {
   "cell_type": "markdown",
   "metadata": {},
   "source": [
    "##### Third Attempt at Opitimization - change optimizer to Adagrad and change activation back to relu"
   ]
  },
  {
   "cell_type": "code",
   "execution_count": 29,
   "metadata": {},
   "outputs": [],
   "source": [
    "# Keras Optimizers\n",
    "\n",
    "adg = keras.optimizers.Adagrad()"
   ]
  },
  {
   "cell_type": "code",
   "execution_count": 30,
   "metadata": {},
   "outputs": [
    {
     "name": "stdout",
     "output_type": "stream",
     "text": [
      "Model: \"sequential_3\"\n",
      "_________________________________________________________________\n",
      " Layer (type)                Output Shape              Param #   \n",
      "=================================================================\n",
      " dense_8 (Dense)             (None, 128)               4736      \n",
      "                                                                 \n",
      " dense_9 (Dense)             (None, 128)               16512     \n",
      "                                                                 \n",
      " dense_10 (Dense)            (None, 2)                 258       \n",
      "                                                                 \n",
      "=================================================================\n",
      "Total params: 21,506\n",
      "Trainable params: 21,506\n",
      "Non-trainable params: 0\n",
      "_________________________________________________________________\n"
     ]
    }
   ],
   "source": [
    "# Define the model - deep neural net, i.e., the number of input features and hidden nodes for each layer.\n",
    "nn = keras.Sequential()\n",
    "nn.add(keras.Input(shape = (X_train_scaled.shape[1],)))\n",
    "\n",
    "# First hidden layer\n",
    "nn.add(layers.Dense(128, activation = \"relu\"))\n",
    "\n",
    "# Second hidden layer\n",
    "nn.add(layers.Dense(128, activation = \"relu\"))\n",
    "\n",
    "# Output layer\n",
    "nn.add(layers.Dense(2))\n",
    "\n",
    "# Check the structure of the model\n",
    "nn.summary()"
   ]
  },
  {
   "cell_type": "code",
   "execution_count": 31,
   "metadata": {},
   "outputs": [],
   "source": [
    "# Compile the model\n",
    "nn.compile(loss = \"binary_crossentropy\", metrics = [\"accuracy\"], optimizer = adg)"
   ]
  },
  {
   "cell_type": "code",
   "execution_count": 32,
   "metadata": {},
   "outputs": [
    {
     "name": "stdout",
     "output_type": "stream",
     "text": [
      "Epoch 1/20\n",
      "804/804 [==============================] - 2s 2ms/step - loss: 8.2474 - accuracy: 0.5347\n",
      "Epoch 2/20\n",
      "804/804 [==============================] - 2s 2ms/step - loss: 8.2474 - accuracy: 0.5347\n",
      "Epoch 3/20\n",
      "804/804 [==============================] - 2s 3ms/step - loss: 8.2474 - accuracy: 0.5347\n",
      "Epoch 4/20\n",
      "804/804 [==============================] - 2s 3ms/step - loss: 8.2474 - accuracy: 0.5347\n",
      "Epoch 5/20\n",
      "804/804 [==============================] - 2s 2ms/step - loss: 8.2474 - accuracy: 0.5347\n",
      "Epoch 6/20\n",
      "804/804 [==============================] - 2s 3ms/step - loss: 8.2474 - accuracy: 0.5347\n",
      "Epoch 7/20\n",
      "804/804 [==============================] - 2s 3ms/step - loss: 8.2474 - accuracy: 0.5347\n",
      "Epoch 8/20\n",
      "804/804 [==============================] - 2s 3ms/step - loss: 8.2474 - accuracy: 0.5347\n",
      "Epoch 9/20\n",
      "804/804 [==============================] - 2s 2ms/step - loss: 8.2474 - accuracy: 0.5347\n",
      "Epoch 10/20\n",
      "804/804 [==============================] - 2s 3ms/step - loss: 8.2474 - accuracy: 0.5347\n",
      "Epoch 11/20\n",
      "804/804 [==============================] - 2s 2ms/step - loss: 8.2474 - accuracy: 0.5347: 0s - loss: 8.251\n",
      "Epoch 12/20\n",
      "804/804 [==============================] - 2s 3ms/step - loss: 8.2474 - accuracy: 0.5347: 0s - loss:\n",
      "Epoch 13/20\n",
      "804/804 [==============================] - 2s 3ms/step - loss: 8.2474 - accuracy: 0.5347\n",
      "Epoch 14/20\n",
      "804/804 [==============================] - 2s 2ms/step - loss: 8.2474 - accuracy: 0.5347\n",
      "Epoch 15/20\n",
      "804/804 [==============================] - 2s 2ms/step - loss: 8.2474 - accuracy: 0.5347\n",
      "Epoch 16/20\n",
      "804/804 [==============================] - 2s 2ms/step - loss: 8.2473 - accuracy: 0.5347\n",
      "Epoch 17/20\n",
      "804/804 [==============================] - 2s 2ms/step - loss: 8.2474 - accuracy: 0.5347\n",
      "Epoch 18/20\n",
      "804/804 [==============================] - 2s 2ms/step - loss: 8.2474 - accuracy: 0.5347\n",
      "Epoch 19/20\n",
      "804/804 [==============================] - 2s 2ms/step - loss: 8.2474 - accuracy: 0.5347\n",
      "Epoch 20/20\n",
      "804/804 [==============================] - 2s 2ms/step - loss: 8.2474 - accuracy: 0.5347\n"
     ]
    },
    {
     "data": {
      "text/plain": [
       "<keras.callbacks.History at 0x28a08338370>"
      ]
     },
     "execution_count": 32,
     "metadata": {},
     "output_type": "execute_result"
    }
   ],
   "source": [
    "# Train the model\n",
    "mc = keras.callbacks.ModelCheckpoint('weights{epoch:08d}.h5', \n",
    "                                     save_weights_only=True, save_freq=5)\n",
    "nn.fit(x = X_train, y = y_train, epochs = 20, callbacks = [mc])\n",
    "       # validation_data = (X_test, y_test))"
   ]
  },
  {
   "cell_type": "code",
   "execution_count": 33,
   "metadata": {},
   "outputs": [
    {
     "name": "stdout",
     "output_type": "stream",
     "text": [
      "268/268 - 0s - loss: 6.3997 - accuracy: 0.5699 - 217ms/epoch - 808us/step\n",
      "Loss: 6.399679183959961, Accuracy: 0.5699125528335571\n"
     ]
    }
   ],
   "source": [
    "# Evaluate the model using the test data\n",
    "model_loss, model_accuracy = nn.evaluate(X_test_scaled,y_test,verbose=2)\n",
    "print(f\"Loss: {model_loss}, Accuracy: {model_accuracy}\")"
   ]
  }
 ],
 "metadata": {
  "kernelspec": {
   "display_name": "Python 3",
   "language": "python",
   "name": "python3"
  },
  "language_info": {
   "codemirror_mode": {
    "name": "ipython",
    "version": 3
   },
   "file_extension": ".py",
   "mimetype": "text/x-python",
   "name": "python",
   "nbconvert_exporter": "python",
   "pygments_lexer": "ipython3",
   "version": "3.8.8"
  }
 },
 "nbformat": 4,
 "nbformat_minor": 4
}
